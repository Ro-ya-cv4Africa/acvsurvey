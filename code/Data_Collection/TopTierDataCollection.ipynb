{
  "cells": [
    {
      "cell_type": "code",
      "source": [
        "!pip install pandas bokeh seaborn pybliometrics"
      ],
      "metadata": {
        "id": "vZsbz2I8tFjk"
      },
      "execution_count": null,
      "outputs": []
    },
    {
      "cell_type": "code",
      "execution_count": null,
      "metadata": {
        "colab": {
          "base_uri": "https://localhost:8080/"
        },
        "id": "oMS6C19Zm6lq",
        "outputId": "71178d57-972b-46f8-e8e8-96e286c0a13f"
      },
      "outputs": [
        {
          "output_type": "stream",
          "name": "stdout",
          "text": [
            "Creating config file at /root/.config/pybliometrics.cfg with default paths...\n",
            "Please enter your API Key(s), obtained from http://dev.elsevier.com/myapikey.html.  Separate multiple keys by comma:\n",
            "44d9fdfb846449e4a2bab214f317753e\n",
            "API Keys are sufficient for most users.  If you have an InstToken, please enter the token now; otherwise just press Enter:\n",
            "\n",
            "Configuration file successfully created at /root/.config/pybliometrics.cfg\n",
            "For details see https://pybliometrics.rtfd.io/en/stable/configuration.html.\n"
          ]
        }
      ],
      "source": [
        "%matplotlib notebook\n",
        "import sys\n",
        "import os\n",
        "import pandas as pd\n",
        "import seaborn as sns\n",
        "import matplotlib.pyplot as plt\n",
        "import numpy as np\n",
        "from pybliometrics.scopus import ScopusSearch\n",
        "from tqdm import tqdm"
      ]
    },
    {
      "cell_type": "code",
      "execution_count": null,
      "metadata": {
        "id": "0YdPHZvenEFP"
      },
      "outputs": [],
      "source": [
        "def get_search_result_df(conference, year, volume=None):\n",
        "    if volume is not None:\n",
        "      full_volume_results = None\n",
        "      for vol in volume:\n",
        "        search_string = f'SRCTITLE (\\\"{conference}\\\") AND VOLUME ({vol}) AND PUBYEAR = {year}'\n",
        "        search_results = ScopusSearch(search_string, subscriber=False)\n",
        "        results_df = pd.DataFrame(pd.DataFrame(search_results.results))\n",
        "\n",
        "        if full_volume_results is None:\n",
        "          full_volume_results = results_df\n",
        "        else:\n",
        "          full_volume_results = pd.concat([full_volume_results, results_df], ignore_index=True)\n",
        "\n",
        "      return(full_volume_results.shape, full_volume_results)\n",
        "\n",
        "    else:\n",
        "      search_string = f'SRCTITLE (\\\"{conference}\\\") AND PUBYEAR = {year}'\n",
        "\n",
        "      search_results = ScopusSearch(search_string, subscriber=False)\n",
        "      results_df = pd.DataFrame(pd.DataFrame(search_results.results))\n",
        "      return(results_df.shape, results_df)"
      ]
    },
    {
      "cell_type": "code",
      "source": [
        "conferences_list = [\"International Conference on Learning Representations\",\n",
        "                    \"Proceedings of the IEEE Computer Society Conference on Computer Vision and Pattern Recognition\",\n",
        "                    \"Proceedings of the IEEE International Conference on Computer Vision\",\n",
        "                    \"European Conference on Computer Vision\",\n",
        "                    \"International Journal of Computer Vision\",\n",
        "                    \"IEEE Transactions on Pattern Analysis and Machine Intelligence\",\n",
        "                    \"International Conference on Medical Image Computing and Computer Assisted Intervention\",\n",
        "                    \"Advances in Neural Information Processing Systems\",\n",
        "                    \"International Conference on Machine Learning\"]\n",
        "\n",
        "# Confusing Venues: Proceedings - International Conference on Machine Learning and Cybernetics, Proceedings - 2015 IEEE 14th International Conference on Machine Learning and Applications, Proceedings - 2020 2nd International Conference on Machine Learning, Big Data and Business Intelligence\n",
        "# 6th International Conference on Learning Representations, ICLR 2018 - Workshop Track Proceedings\n",
        "\n",
        "conf_journal_dict = {\"European Conference on Computer Vision\": \"Lecture Notes in Computer Science\",\n",
        "                     \"International Conference on Medical Image Computing and Computer Assisted Intervention\": \"Lecture Notes in Computer Science\"}\n",
        "\n",
        "conf_year_replacement = {('Proceedings of the IEEE Computer Society Conference on Computer Vision and Pattern Recognition',2017):\n",
        "                            'IEEE Conference on Computer Vision and Pattern Recognition',\n",
        "                          ('Proceedings of the IEEE International Conference on Computer Vision',2012): None,\n",
        "                          ('Proceedings of the IEEE International Conference on Computer Vision',2014): None,\n",
        "                          ('Proceedings of the IEEE International Conference on Computer Vision',2016): None,\n",
        "                          ('Proceedings of the IEEE International Conference on Computer Vision',2018): None,\n",
        "                          ('Proceedings of the IEEE International Conference on Computer Vision',2020): None,\n",
        "                          ('Proceedings of the IEEE International Conference on Computer Vision',2022): None,\n",
        "                          ('European Conference on Computer Vision',2013): None,\n",
        "                          ('European Conference on Computer Vision',2015): None,\n",
        "                          ('European Conference on Computer Vision',2017): None,\n",
        "                          ('European Conference on Computer Vision',2019): None,\n",
        "                          ('European Conference on Computer Vision',2021): None,\n",
        "                        }\n",
        "volume_dict = {\n",
        "    \"European Conference on Computer Vision\": {2012: range(7572, 7579), 2014: range(8689, 8696), 2016: range(9905, 9913),\n",
        "                                               2018: range(11205, 11221), 2020: range(12346, 12376), 2022: range(13661, 13700)},\n",
        "\n",
        "    \"International Conference on Medical Image Computing and Computer Assisted Intervention\": {2012: range(7510, 7512), 2013: range(8149, 8151),\n",
        "                                                                                               2014: (8673, 8675), 2015: range(9349, 9351),\n",
        "                                                                                               2016: range(9900, 9902), 2017: range(10433, 10435),\n",
        "                                                                                               2018: range(11070, 11073), 2019: range(11764, 11769),\n",
        "                                                                                               2020: range(12261, 12267), 2021: range(12901, 12908 ),\n",
        "                                                                                               2022: range(13431, 13438)}\n",
        "}\n",
        "\n",
        "full_results = None\n",
        "\n",
        "for conf in tqdm(conferences_list):\n",
        "  for year in range(2012, 2023):\n",
        "\n",
        "    # If Conference and Year combination either doesnt exist or is a special case (CVPR 2017)\n",
        "    if (conf,year) in conf_year_replacement:\n",
        "        conf_temp = conf_year_replacement[(conf,year)]\n",
        "        if conf_temp is None:\n",
        "          continue\n",
        "        shape, results = get_search_result_df(conf_temp, year)\n",
        "    else:\n",
        "        # If conference is instead published as a journal with certain volumes\n",
        "        if conf in conf_journal_dict:\n",
        "          volume = volume_dict[conf][year]\n",
        "          conf_temp = conf_journal_dict[conf]\n",
        "          shape, results = get_search_result_df(conf_temp, year, volume)\n",
        "        else:\n",
        "          # Normal conference year combination\n",
        "          shape, results = get_search_result_df(conf, year)\n",
        "\n",
        "    print(conf, ' ', year, ' : ', shape)\n",
        "    if full_results is None:\n",
        "      full_results = results\n",
        "    else:\n",
        "      full_results = pd.concat([full_results, results], ignore_index=True)\n",
        "\n",
        "print(full_results.shape)\n",
        "\n",
        "full_results.to_csv(f\"top_tier_data.csv\", index=False)"
      ],
      "metadata": {
        "id": "F7xRDaeKs7Sz"
      },
      "execution_count": null,
      "outputs": []
    },
    {
      "cell_type": "code",
      "source": [
        "import pandas as pd\n",
        "\n",
        "full_results = pd.read_csv(\"/content/drive/MyDrive/Ro'ya CV4Africa Community Files/Bibliometric Study/Work_Phases/Data_Collection/top_tier_data_v2.csv\")\n",
        "\n",
        "venues_names_as_is = [\"Proceedings of the IEEE Computer Society Conference on Computer Vision and Pattern Recognition\",\n",
        "                      \"Proceedings of the IEEE International Conference on Computer Vision\",\n",
        "                      \"Lecture Notes in Computer Science (including subseries Lecture Notes in Artificial Intelligence and Lecture Notes in Bioinformatics)\",\n",
        "                      \"International Journal of Computer Vision\",\n",
        "                      \"IEEE Transactions on Pattern Analysis and Machine Intelligence\",\n",
        "                      \"Advances in Neural Information Processing Systems\",\n",
        "                      \"International Conference on Machine Learning\",\n",
        "                      \"International Conference on Learning Representations\"]\n",
        "\n",
        "venues_names_as_is = [venue.lower() for venue in venues_names_as_is]\n",
        "\n",
        "wrong_venues = []\n",
        "for df in full_results[\"publicationName\"]:\n",
        "  if df.lower() not in venues_names_as_is:\n",
        "    wrong_venues .append(df)\n",
        "\n",
        "wrong_venues = set(wrong_venues)\n",
        "print('Wrong venues #', len(wrong_venues))\n",
        "\n",
        "\n",
        "identified_wrong_venues_keywords = [\"ICMLA\", \"MLBDBI\", \"MLCCIM\", \"ICMLANT\", \"MLKE\", \"Workshop Track Proceedings\", \"iCMLDE\", \"MLDS\", \"Cybernetics\", \"MLISE\",\n",
        "                                    \"Application\", \"COM-IT-CON\", \"MLCR\", \"Cloud\"]\n",
        "\n",
        "del_indices = []\n",
        "for index, row in full_results.iterrows():\n",
        "  venue = row[\"publicationName\"]\n",
        "  for keyword in identified_wrong_venues_keywords:\n",
        "      if keyword in venue:\n",
        "        del_indices.append(index)\n",
        "\n",
        "full_results = full_results.drop(del_indices)\n",
        "full_results.to_csv(\"/content/drive/MyDrive/Ro'ya CV4Africa Community Files/Bibliometric Study/Work_Phases/Data_Collection/correct_top_tier_data_v2.csv\")"
      ],
      "metadata": {
        "colab": {
          "base_uri": "https://localhost:8080/"
        },
        "id": "4V1S2AD_QxpZ",
        "outputId": "41370c9f-9fd5-4aa8-ca05-50e7f26a157c"
      },
      "execution_count": null,
      "outputs": [
        {
          "output_type": "stream",
          "name": "stderr",
          "text": [
            "<ipython-input-19-32378b637754>:3: DtypeWarning: Columns (1,17,19,23,24,25,26,31,32) have mixed types. Specify dtype option on import or set low_memory=False.\n",
            "  full_results = pd.read_csv(\"/content/drive/MyDrive/Ro'ya CV4Africa Community Files/Bibliometric Study/Work_Phases/Data_Collection/top_tier_data.csv\")\n"
          ]
        },
        {
          "output_type": "stream",
          "name": "stdout",
          "text": [
            "Wrong venues # 51\n"
          ]
        }
      ]
    },
    {
      "cell_type": "code",
      "source": [
        "########### Authors of Topitier conferences List ########################\n",
        "\n",
        "import pandas as pd\n",
        "from tqdm import tqdm\n",
        "import numpy as np\n",
        "from pybliometrics.scopus import AbstractRetrieval\n",
        "import json as simplejson\n",
        "\n",
        "full_results = pd.read_csv(\"/content/drive/MyDrive/Ro'ya CV4Africa Community Files/Bibliometric Study/Work_Phases/Data_Collection/correct_top_tier_data_v2.csv\")\n",
        "err_count = 0\n",
        "\n",
        "print('Amount of publications #', len(full_results))\n",
        "\n",
        "start_index = 0\n",
        "authors_df =[]\n",
        "for index, row in tqdm(full_results.iterrows()):\n",
        "  if index <= start_index:\n",
        "    continue\n",
        "  try:\n",
        "    import pdb; pdb.set_trace()\n",
        "    ab = AbstractRetrieval(row[\"eid\"], view='FULL')\n",
        "    if type(row[\"affiliation_country\"]) != str:\n",
        "      if np.isnan(row[\"affiliation_country\"]):\n",
        "        continue\n",
        "    eid, dup_indx = [row[\"eid\"]]*len(ab.authorgroup), [index]*len(ab.authorgroup)\n",
        "    author_df = pd.DataFrame({'dup_indx':dup_indx, 'eid':eid})\n",
        "    author_df = pd.concat([author_df, pd.DataFrame(data = ab.authorgroup)], axis=1 )\n",
        "    authors_df.append(author_df)\n",
        "  except:\n",
        "    err_count += 1\n",
        "    start_index = index\n",
        "    print('Stopped at ', start_index)\n",
        "    break\n",
        "\n",
        "print('Errors #', err_count)\n",
        "print(len(authors_df))\n",
        "authors_df = pd.concat(authors_df, axis=0)\n",
        "authors_df.to_csv(\"/content/drive/MyDrive/Ro'ya CV4Africa Community Files/Bibliometric Study/Work_Phases/Data_Collection/correct_toptier_authors_v2.csv\")"
      ],
      "metadata": {
        "id": "-QXEFCPts2ri"
      },
      "execution_count": null,
      "outputs": []
    }
  ],
  "metadata": {
    "colab": {
      "provenance": []
    },
    "kernelspec": {
      "display_name": "Python 3",
      "name": "python3"
    },
    "language_info": {
      "name": "python"
    }
  },
  "nbformat": 4,
  "nbformat_minor": 0
}