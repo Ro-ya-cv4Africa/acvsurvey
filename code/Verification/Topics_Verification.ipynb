{
  "nbformat": 4,
  "nbformat_minor": 0,
  "metadata": {
    "colab": {
      "provenance": []
    },
    "kernelspec": {
      "name": "python3",
      "display_name": "Python 3"
    },
    "language_info": {
      "name": "python"
    }
  },
  "cells": [
    {
      "cell_type": "code",
      "execution_count": null,
      "metadata": {
        "colab": {
          "base_uri": "https://localhost:8080/"
        },
        "id": "OBEmgxB4loW5",
        "outputId": "657f05e9-9321-419d-d74b-f20ff793b12c"
      },
      "outputs": [
        {
          "output_type": "stream",
          "name": "stdout",
          "text": [
            "Verifying final amount of publications studied are  18592\n",
            "#Venues in Total  4400\n"
          ]
        }
      ],
      "source": [
        "import csv\n",
        "\n",
        "sum_pubs = 0\n",
        "\n",
        "collected_venues = {}\n",
        "################ Discard Venues with less than 10 publications and merge venues over years\n",
        "with open(\"/content/drive/MyDrive/Ro'ya CV4Africa Community Files/Bibliometric Study/Work_Phases/Data_Verification/Publication_venue_stats.csv\", 'r') as file:\n",
        "  csvreader = csv.reader(file)\n",
        "  first = 0\n",
        "\n",
        "  for row in csvreader:\n",
        "    if first < 1:\n",
        "      first += 1\n",
        "      continue\n",
        "\n",
        "    sum_pubs += int(row[1])\n",
        "\n",
        "    # Merge venues which repeat over the years\n",
        "    venue = ''.join([i for i in row[0] if not i.isdigit()])\n",
        "\n",
        "    if venue not in collected_venues:\n",
        "      collected_venues[venue] = int(row[1])\n",
        "    else:\n",
        "      collected_venues[venue] += int(row[1])\n",
        "\n",
        "print('Verifying final amount of publications studied are ', sum_pubs)\n",
        "#Verifying final amount of publications studied are  18592 --> Inquire from Zainab about the missing 5 papers\n",
        "\n",
        "print('#Venues in Total ', len(collected_venues))"
      ]
    },
    {
      "cell_type": "code",
      "source": [
        "final_collected_venues = []\n",
        "flagged_venues = []\n",
        "for venue, npapers in collected_venues.items():\n",
        "    if npapers < 10:\n",
        "      #if \"image\" in venue.lower() or \"computer vision\" in venue.lower():\n",
        "      #  print(\"Skipped \", venue)\n",
        "      flagged_venues.append(venue)\n",
        "      continue\n",
        "\n",
        "    final_collected_venues.append(venue)\n",
        "\n",
        "print('#Venues after removing outliers in Total ', len(final_collected_venues))\n",
        "\n",
        "with open('flagged_venues.txt', 'w') as f:\n",
        "  for venue in flagged_venues:\n",
        "    f.write(venue+'\\n')\n"
      ],
      "metadata": {
        "colab": {
          "base_uri": "https://localhost:8080/"
        },
        "id": "i9dgKSdp9VZZ",
        "outputId": "57cccff4-228f-4ab9-cfd8-5f34280d64b0"
      },
      "execution_count": null,
      "outputs": [
        {
          "output_type": "stream",
          "name": "stdout",
          "text": [
            "#Venues after removing outliers in Total  334\n"
          ]
        }
      ]
    },
    {
      "cell_type": "code",
      "source": [
        "################ Keep safe phrases and safe venues, and flag the rest to be checked manually\n",
        "safe_phrases = [\"intelligence systems\", \"intelligent systems\", \"computational vision\", \"visual\", \"image\", \"imaging\", \"computer vision\", \"pattern recognition\", \"signal processing\", \"machine learning\", \"healthcare\", \"health\", \"health care\", \"medical\",\n",
        "                \"remote sensing\", \"robotic\", \"multimedia\", \"medicine\", \"data analysis\", \"big data\", \"biomed\", \"applications\"]\n",
        "\n",
        "safe_venues = []\n",
        "needs_review_venues = []\n",
        "for query_venue in final_collected_venues:\n",
        "    flag = True\n",
        "    for phrase in safe_phrases:\n",
        "      if phrase in query_venue.lower():\n",
        "        flag = False\n",
        "        break\n",
        "\n",
        "    if flag:\n",
        "      needs_review_venues.append(query_venue)\n",
        "    else:\n",
        "      safe_venues.append(query_venue)\n",
        "\n",
        "print('Number of Publication Venues to be Reviewed', len(needs_review_venues))\n",
        "with open('needs_review_venues.txt', 'w') as f:\n",
        "  for venue in needs_review_venues:\n",
        "    f.write(venue + '\\n')\n",
        "\n",
        "with open('safe_venues.txt', 'w') as f:\n",
        "  for venue in safe_venues:\n",
        "    f.write(venue + '\\n')\n",
        "# Discard All publications from publication venues with less than 5 publications (most probably its an outlier)\n",
        "# Merge venues that are re-occurring over the years\n",
        "# Check manually the rest of publication venues/journals and discard the ones with nouns or noun phrases that are mostly related to computer vision or a common application of it\n",
        "# The flagged venues can be used to check 5 random papers from it to confirm that it's relevant to computer vision"
      ],
      "metadata": {
        "colab": {
          "base_uri": "https://localhost:8080/"
        },
        "id": "yDKAVplq4qB_",
        "outputId": "bd727ad7-372c-41de-c5e7-2354d8bf60ff"
      },
      "execution_count": null,
      "outputs": [
        {
          "output_type": "stream",
          "name": "stdout",
          "text": [
            "Number of Publication Venues to be Reviewed 196\n"
          ]
        }
      ]
    },
    {
      "cell_type": "code",
      "source": [
        "###### Load Needs to be reviewed venues after manual filtration\n",
        "import csv\n",
        "\n",
        "needs_review_venues = []\n",
        "with open(\"/content/drive/MyDrive/Ro'ya CV4Africa Community Files/Bibliometric Study/Work_Phases/Data_Verification/Flagged_Venues_Journals-Needs_Review_Final.csv\", 'r') as file:\n",
        "  csvreader = csv.reader(file)\n",
        "\n",
        "  first = 0\n",
        "  for row in csvreader:\n",
        "    if first < 1:\n",
        "      first += 1\n",
        "      continue\n",
        "\n",
        "    needs_review_venues.append(row[0])\n",
        "\n",
        "print(needs_review_venues)"
      ],
      "metadata": {
        "colab": {
          "base_uri": "https://localhost:8080/"
        },
        "id": "Zz8h3D3pKx0B",
        "outputId": "1708d919-502e-44b0-9e8d-a736c8f22e54"
      },
      "execution_count": null,
      "outputs": [
        {
          "output_type": "stream",
          "name": "stdout",
          "text": [
            "['Lecture Notes in Computer Science (including subseries Lecture Notes in Artificial Intelligence and Lecture Notes in Bioinformatics)', 'Lecture Notes in Networks and Systems', 'Communications in Computer and Information Science', 'Computers, Materials and Continua', 'National Radio Science Conference, NRSC, Proceedings', 'PLoS ONE', 'CEUR Workshop Proceedings', 'Electronics (Switzerland)', 'IEEE AFRICON Conference', 'Monthly Notices of the Royal Astronomical Society', 'Proceedings of the International Conference on Microelectronics, ICM', 'Diagnostics', 'Journal of Ambient Intelligence and Humanized Computing', 'Geocarto International', 'Journal of Physics: Conference Series', 'Wireless Communications and Mobile Computing', 'Sustainability (Switzerland)', 'Astronomy and Astrophysics', 'International Journal of Applied Earth Observation and Geoinformation', 'Arabian Journal of Geosciences', 'Symmetry', 'Heliyon', 'Advances in Space Research', 'IEEE International Symposium on Industrial Electronics', 'Revue Francaise de Photogrammetrie et de Teledetection', 'Proceedings of the IEEE International Conference on Electronics, Circuits, and Systems', 'th IEEE International Multi-Conference on Systems, Signals and Devices, SSD', 'IFMBE Proceedings', 'Pediatric Radiology', 'AIP Conference Proceedings', 'Minerals Engineering', 'IFAC-PapersOnLine', 'Lecture Notes in Business Information Processing', 'th IEEE International Multi-Conference on Systems, Signals and Devices, SSD', 'Applied Geomatics', 'Mathematics', 'Proceedings of the IEEE International Conference on Industrial Technology', 'IOP Conference Series: Materials Science and Engineering', 'Physics and Chemistry of the Earth', 'Concurrency and Computation: Practice and Experience', 'Environmental Monitoring and Assessment', 'International SAUPEC/RobMech/PRASA Conference, SAUPEC/RobMech/PRASA', 'Proceedings of the International Astronautical Congress, IAC', 'IECON Proceedings (Industrial Electronics Conference)', 'Midwest Symposium on Circuits and Systems', 'ES Web of Conferences', 'Water (Switzerland)', 'NILES  - rd Novel Intelligent and Leading Emerging Sciences Conference, Proceedings', 'Conference Proceedings - IEEE International Conference on Systems, Man and Cybernetics', 'SAIEE Africa Research Journal', 'Wireless Personal Communications', 'IOP Conference Series: Earth and Environmental Science', 'Applied Radiation and Isotopes', 'ICEEM  - nd IEEE International Conference on Electronic Engineering', 'International Telecommunications Conference, ITC-Egypt  - Proceedings', 'Proceedings of the th International Multi-Conference on Systems, Signals and Devices, SSD', 'African Journal of Ecology', 'Lecture Notes in Mechanical Engineering', 'Modeling Earth Systems and Environment', 'Zootaxa', 'Journal of Food Quality', 'IRBM', 'Environmental Earth Sciences', 'Applied Mathematical Sciences', 'Evolving Systems', 'Astrophysical Journal', 'Materials Today: Proceedings', 'IET Biometrics', 'Optical and Quantum Electronics', 'th International Conference on Control, Decision and Information Technologies, CoDIT', 'Telkomnika (Telecommunication Computing Electronics and Control)', 'European Space Agency, (Special Publication) ESA SP', 'th International Conference on Electronics, Computer and Computation, ICECCO', 'Proceedings of the Mediterranean Electrotechnical Conference - MELECON', 'Journal of African Earth Sciences', 'International Conference on Computer, Control, Electrical, and Electronics Engineering, ICCCEEE', 'International Journal of Speech Technology', 'Measurement: Journal of the International Measurement Confederation', 'Methods in Ecology and Evolution', 'Journal of Alloys and Compounds', 'Journal of Testing and Evaluation', 'PeerJ', 'nd Novel Intelligent and Leading Emerging Sciences Conference, NILES', 'Proceedings of the  International Japan-Africa Conference on Electronics, Communications, and Computations, JAC-ECC', 'th International Conference on Electrical Engineering, ICEE', 'Ecological Informatics', 'nd World Conference on Complex Systems, WCCS', 'Proceedings of the IEEE International Conference on Systems, Man and Cybernetics', 'Expert Systems', 'th International Symposium on I/V Communications and Mobile Networks, ISIVC', 'Scientific Programming', 'Radiation Protection Dosimetry', 'Applied Geography', 'Cancers', 'International Conference on Control, Automation and Diagnosis, ICCAD', 'International Conference on Electrical, Computer, and Energy Technologies, ICECET', 'th International Multi-Conference on Systems, Signals and Devices, SSD', 'IST-Africa Conference, IST-Africa', \"th International Computer Engineering Conference: Today Information Society What's Next?, ICENCO\", 'Proceedings -  International Conference on Engineering and MIS, ICEMIS', 'Conference on Information Communications Technology and Society, ICTAS  - Proceedings', 'Proceedings -  International Conference on Wireless Networks and Mobile Communications, WINCOM', 'ICEIS  - Proceedings of the th International Conference on Enterprise Information Systems']\n"
          ]
        }
      ]
    },
    {
      "cell_type": "code",
      "source": [
        "######## Remove Flagged publications\n",
        "import csv\n",
        "\n",
        "with open(\"/content/drive/MyDrive/Ro'ya CV4Africa Community Files/Bibliometric Study/Work_Phases/Data_Collection/Scopus_Result.csv\", 'r') as file:\n",
        "  csvreader = csv.reader(file)\n",
        "\n",
        "  with open(\"/content/drive/MyDrive/Ro'ya CV4Africa Community Files/Bibliometric Study/Work_Phases/Data_Verification/Scopus_Result_Filtered.csv\", 'w') as file2:\n",
        "    first = 0\n",
        "    csvwriter = csv.writer(file2)\n",
        "    for row in csvreader:\n",
        "      if first < 1:\n",
        "        first += 1\n",
        "        csvwriter.writerow(row)\n",
        "        continue\n",
        "\n",
        "      pub_venue = ''.join([i for i in row[18] if not i.isdigit()])\n",
        "      if pub_venue not in flagged_venues:\n",
        "        csvwriter.writerow(row)\n"
      ],
      "metadata": {
        "id": "qdfcgRG-AVAc"
      },
      "execution_count": null,
      "outputs": []
    },
    {
      "cell_type": "code",
      "source": [
        "######## Randomly sample publications to be reviewed in a priority based sampling\n",
        "import random\n",
        "\n",
        "needs_review_pubs = {}\n",
        "with open(\"/content/drive/MyDrive/Ro'ya CV4Africa Community Files/Bibliometric Study/Work_Phases/Data_Verification/Scopus_Result_Filtered.csv\", 'r') as file:\n",
        "  csvreader = csv.reader(file)\n",
        "  for row in csvreader:\n",
        "    if first < 1:\n",
        "      first += 1\n",
        "      continue\n",
        "\n",
        "    pub_venue = ''.join([i for i in row[18] if not i.isdigit()])\n",
        "    if pub_venue in needs_review_venues:\n",
        "      if pub_venue not in needs_review_pubs:\n",
        "        needs_review_pubs[pub_venue] = []\n",
        "      needs_review_pubs[pub_venue].append(row)\n",
        "\n",
        "total_pubs_not_flagged = 0\n",
        "venues_sorted = {}\n",
        "for venue, pubs in needs_review_pubs.items():\n",
        "  venues_sorted[venue] = len(pubs)\n",
        "  total_pubs_not_flagged += len(pubs)\n",
        "\n",
        "print('Total publications that needs review', total_pubs_not_flagged)\n",
        "for venue, _ in venues_sorted.items():\n",
        "  venues_sorted[venue] /= total_pubs_not_flagged\n",
        "print('Priorities: ', venues_sorted)\n",
        "max_prob = max(venues_sorted.values())\n",
        "min_prob = min(venues_sorted.values())\n",
        "\n",
        "# We're not using these probabilities directly to sample with cause we need to ensure we only can have max 10 papers per venue for practical reasons\n",
        "MAX_PAPERS = 10\n",
        "MIN_PAPERS = 2\n",
        "selected_pubs = {}\n",
        "for venue, pubs in needs_review_pubs.items():\n",
        "  number_papers =  round( ((venues_sorted[venue] - min_prob) / (max_prob - min_prob)) * (MAX_PAPERS - MIN_PAPERS) + MIN_PAPERS)\n",
        "  selected_pubs[venue] = random.sample(pubs, number_papers)\n",
        "\n",
        "\n",
        "with open(\"/content/drive/MyDrive/Ro'ya CV4Africa Community Files/Bibliometric Study/Work_Phases/Data_Verification/Scopus_Result_Needs_Review.csv\", 'w') as file2:\n",
        "    csvwriter = csv.writer(file2)\n",
        "\n",
        "    for venue, pubs in selected_pubs.items():\n",
        "      for pub in pubs:\n",
        "        csvwriter.writerow(pub)"
      ],
      "metadata": {
        "id": "uFAA_nNSAku7",
        "colab": {
          "base_uri": "https://localhost:8080/"
        },
        "outputId": "28b001f6-ef50-4943-8d5e-d135f122db75"
      },
      "execution_count": null,
      "outputs": [
        {
          "output_type": "stream",
          "name": "stdout",
          "text": [
            "Total publications that needs review 2581\n",
            "Priorities:  {'Wireless Communications and Mobile Computing': 0.01084850833010461, 'IEEE AFRICON Conference': 0.015497869043006587, 'Expert Systems': 0.0038744672607516468, 'Concurrency and Computation: Practice and Experience': 0.006199147617202635, 'Computers, Materials and Continua': 0.05579232855482371, 'Lecture Notes in Computer Science (including subseries Lecture Notes in Artificial Intelligence and Lecture Notes in Bioinformatics)': 0.2413793103448276, 'PLoS ONE': 0.02479659046881054, 'Communications in Computer and Information Science': 0.05734211545912437, 'IET Biometrics': 0.004261913986826811, 'ICEIS  - Proceedings of the th International Conference on Enterprise Information Systems': 0.0038744672607516468, 'Monthly Notices of the Royal Astronomical Society': 0.014722975590856257, 'SAIEE Africa Research Journal': 0.005424254165052305, 'Lecture Notes in Networks and Systems': 0.063541263076327, 'CEUR Workshop Proceedings': 0.02479659046881054, 'International Journal of Speech Technology': 0.0038744672607516468, 'Journal of Testing and Evaluation': 0.0038744672607516468, 'Lecture Notes in Business Information Processing': 0.0065865943432778, 'Journal of Food Quality': 0.005036807438977141, 'Symmetry': 0.008911274699728787, 'Astronomy and Astrophysics': 0.010461061604029445, 'Conference Proceedings - IEEE International Conference on Systems, Man and Cybernetics': 0.005424254165052305, 'Electronics (Switzerland)': 0.02053467648198373, 'Diagnostics': 0.013560635412630763, 'Evolving Systems': 0.004649360712901976, 'Journal of Ambient Intelligence and Humanized Computing': 0.01239829523440527, 'Materials Today: Proceedings': 0.004261913986826811, 'Mathematics': 0.0065865943432778, 'Journal of Physics: Conference Series': 0.01162340178225494, 'ICEEM  - nd IEEE International Conference on Electronic Engineering': 0.005036807438977141, 'Proceedings of the International Conference on Microelectronics, ICM': 0.013560635412630763, 'NILES  - rd Novel Intelligent and Leading Emerging Sciences Conference, Proceedings': 0.005424254165052305, 'IEEE International Symposium on Industrial Electronics': 0.0077489345215032935, 'IOP Conference Series: Materials Science and Engineering': 0.006199147617202635, 'National Radio Science Conference, NRSC, Proceedings': 0.036032545524990314, 'Ecological Informatics': 0.0038744672607516468, 'Methods in Ecology and Evolution': 0.0038744672607516468, 'Astrophysical Journal': 0.004649360712901976, 'ES Web of Conferences': 0.00581170089112747, 'Heliyon': 0.008523827973653622, 'Proceedings of the IEEE International Conference on Industrial Technology': 0.006199147617202635, 'Environmental Monitoring and Assessment': 0.006199147617202635, 'Sustainability (Switzerland)': 0.010461061604029445, 'PeerJ': 0.0038744672607516468, 'Environmental Earth Sciences': 0.004649360712901976, 'Proceedings of the International Astronautical Congress, IAC': 0.00581170089112747, 'Water (Switzerland)': 0.005424254165052305, 'Physics and Chemistry of the Earth': 0.006199147617202635, 'IOP Conference Series: Earth and Environmental Science': 0.005424254165052305, 'Advances in Space Research': 0.0077489345215032935, 'Revue Francaise de Photogrammetrie et de Teledetection': 0.007361487795428129, 'Arabian Journal of Geosciences': 0.009298721425803952, 'Lecture Notes in Mechanical Engineering': 0.005036807438977141, 'Pediatric Radiology': 0.006974041069352964, 'Applied Radiation and Isotopes': 0.005036807438977141, 'Radiation Protection Dosimetry': 0.0038744672607516468, 'Proceedings of the IEEE International Conference on Electronics, Circuits, and Systems': 0.007361487795428129, 'IECON Proceedings (Industrial Electronics Conference)': 0.00581170089112747, 'European Space Agency, (Special Publication) ESA SP': 0.004261913986826811, 'Journal of African Earth Sciences': 0.004261913986826811, 'Applied Geomatics': 0.0065865943432778, 'Modeling Earth Systems and Environment': 0.005036807438977141, 'Geocarto International': 0.01162340178225494, 'International Journal of Applied Earth Observation and Geoinformation': 0.010073614877954282, 'Cancers': 0.0038744672607516468, 'African Journal of Ecology': 0.005036807438977141, 'Measurement: Journal of the International Measurement Confederation': 0.0038744672607516468, 'Applied Geography': 0.0038744672607516468, 'Optical and Quantum Electronics': 0.004261913986826811, 'Applied Mathematical Sciences': 0.004649360712901976, 'Scientific Programming': 0.0038744672607516468, 'Minerals Engineering': 0.006974041069352964, 'Proceedings of the Mediterranean Electrotechnical Conference - MELECON': 0.004261913986826811, 'Proceedings of the IEEE International Conference on Systems, Man and Cybernetics': 0.0038744672607516468, 'Telkomnika (Telecommunication Computing Electronics and Control)': 0.004261913986826811, 'AIP Conference Proceedings': 0.006974041069352964, 'Wireless Personal Communications': 0.005424254165052305, 'IFAC-PapersOnLine': 0.0065865943432778, 'IRBM': 0.005036807438977141, 'Midwest Symposium on Circuits and Systems': 0.00581170089112747, 'IFMBE Proceedings': 0.006974041069352964, 'Journal of Alloys and Compounds': 0.0038744672607516468, 'Zootaxa': 0.005036807438977141}\n"
          ]
        }
      ]
    },
    {
      "cell_type": "code",
      "source": [
        "# Use manually flagged publications from the above randomly sampled ones to finalize the flagging of the venues itself\n",
        "\n",
        "import csv\n",
        "\n",
        "venues_pubs = {}\n",
        "\n",
        "first = 0\n",
        "with open(\"/content/drive/MyDrive/Ro'ya CV4Africa Community Files/Bibliometric Study/Work_Phases/Data_Verification/Scopus_Result_Filtered_By_Topic.csv\", 'r') as file:\n",
        "  csvreader = csv.reader(file)\n",
        "  for row in csvreader:\n",
        "    if first < 1:\n",
        "      first += 1\n",
        "      continue\n",
        "\n",
        "    pub_venue = ''.join([i for i in row[20] if not i.isdigit()])\n",
        "\n",
        "    if pub_venue not in venues_pubs:\n",
        "      venues_pubs[pub_venue] = []\n",
        "\n",
        "    venues_pubs[pub_venue].append(row)\n",
        "\n",
        "reviewed_and_flagged_venues = []\n",
        "for venue, pubs_list in venues_pubs.items():\n",
        "  majority_vote = 0\n",
        "  for pub in pubs_list:\n",
        "    if pub[1] == '1':\n",
        "      majority_vote += 1\n",
        "\n",
        "  if majority_vote >= len(pubs_list)//2:\n",
        "    reviewed_and_flagged_venues.append(venue)\n",
        "\n",
        "print('Reviewed and Flagged Venues: #', len(reviewed_and_flagged_venues))\n",
        "with open(\"reviewed_and_flagged.csv\", 'w') as f:\n",
        "  for venue in reviewed_and_flagged_venues:\n",
        "    f.write(venue+'\\n')"
      ],
      "metadata": {
        "colab": {
          "base_uri": "https://localhost:8080/"
        },
        "id": "G8bWAsajN6hF",
        "outputId": "c81a86b6-fbdd-4f77-d8da-7c95450264bc"
      },
      "execution_count": null,
      "outputs": [
        {
          "output_type": "stream",
          "name": "stdout",
          "text": [
            "Reviewed and Flagged Venues: # 16\n"
          ]
        }
      ]
    },
    {
      "cell_type": "code",
      "source": [
        "venues = []\n",
        "\n",
        "first = 0\n",
        "with open(\"/content/drive/MyDrive/Ro'ya CV4Africa Community Files/Bibliometric Study/Work_Phases/Data_Verification/Final_Flagged/Final_Auto_Flagged.csv\", 'r') as file:\n",
        "  csvreader = csv.reader(file)\n",
        "  for row in csvreader:\n",
        "    if first < 1:\n",
        "      first += 1\n",
        "      continue\n",
        "    if len(row) == 0:\n",
        "      continue\n",
        "\n",
        "    venues.append(row[0])\n",
        "\n",
        "first = 0\n",
        "with open(\"/content/drive/MyDrive/Ro'ya CV4Africa Community Files/Bibliometric Study/Work_Phases/Data_Verification/Final_Flagged/Final_Reviewed_and_Flagged.csv\", 'r') as file:\n",
        "  csvreader = csv.reader(file)\n",
        "  for row in csvreader:\n",
        "    if first < 1:\n",
        "      first += 1\n",
        "      continue\n",
        "\n",
        "    if len(row) == 0:\n",
        "      continue\n",
        "\n",
        "    venues.append(row[0])\n",
        "\n",
        "print('Total Flagged Venues #', len(venues))\n",
        "\n",
        "first = 0\n",
        "filtered_publications = []\n",
        "with open(\"/content/drive/MyDrive/Ro'ya CV4Africa Community Files/Bibliometric Study/Work_Phases/Data_Verification/Scopus_Result_Filtered_By_Topic.csv\", 'r') as file:\n",
        "  csvreader = csv.reader(file)\n",
        "  for row in csvreader:\n",
        "    if first < 1:\n",
        "      first += 1\n",
        "      continue\n",
        "    if row[0] == '1' or row[1] == '1':\n",
        "      filtered_publications.append(row[6])\n",
        "\n",
        "first = 0\n",
        "final_publications = []\n",
        "with open(\"/content/drive/MyDrive/Ro'ya CV4Africa Community Files/Bibliometric Study/Work_Phases/Data_Collection/Scopus_Result.csv\", 'r') as file:\n",
        "  csvreader = csv.reader(file)\n",
        "  for row in csvreader:\n",
        "    if first < 1:\n",
        "      first += 1\n",
        "      continue\n",
        "\n",
        "    current_venue = ''.join([i for i in row[18] if not i.isdigit()])\n",
        "\n",
        "    if current_venue in venues:\n",
        "      continue\n",
        "\n",
        "    if row[4] in filtered_publications:\n",
        "      continue\n",
        "\n",
        "    final_publications.append(row)\n",
        "\n",
        "with open(\"Final_Filtered_Publications.csv\", \"w\") as f:\n",
        "  csvwriter = csv.writer(f)\n",
        "\n",
        "  for publication in final_publications:\n",
        "    csvwriter.writerow(publication)\n",
        "\n",
        "print(\"total Publications filtered out #\", len(final_publications))"
      ],
      "metadata": {
        "colab": {
          "base_uri": "https://localhost:8080/"
        },
        "id": "bXc6Inn7VcRJ",
        "outputId": "f0adc8b5-9921-4263-e385-fa85900eb61b"
      },
      "execution_count": null,
      "outputs": [
        {
          "output_type": "stream",
          "name": "stdout",
          "text": [
            "Total Flagged Venues # 4036\n",
            "total Publications filtered out # 12164\n"
          ]
        }
      ]
    }
  ]
}