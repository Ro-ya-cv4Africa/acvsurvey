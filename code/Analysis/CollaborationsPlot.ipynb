{
  "nbformat": 4,
  "nbformat_minor": 0,
  "metadata": {
    "colab": {
      "provenance": []
    },
    "kernelspec": {
      "name": "python3",
      "display_name": "Python 3"
    },
    "language_info": {
      "name": "python"
    }
  },
  "cells": [
    {
      "cell_type": "code",
      "source": [
        "from google.colab import drive\n",
        "drive.mount('/content/drive')"
      ],
      "metadata": {
        "colab": {
          "base_uri": "https://localhost:8080/"
        },
        "id": "nTkhePhGt35a",
        "outputId": "74cae8bc-e654-450c-d714-647e21889cc3"
      },
      "execution_count": null,
      "outputs": [
        {
          "output_type": "stream",
          "name": "stdout",
          "text": [
            "Drive already mounted at /content/drive; to attempt to forcibly remount, call drive.mount(\"/content/drive\", force_remount=True).\n"
          ]
        }
      ]
    },
    {
      "cell_type": "code",
      "execution_count": null,
      "metadata": {
        "colab": {
          "base_uri": "https://localhost:8080/"
        },
        "id": "jo9KkxZbJ_OU",
        "outputId": "ca6036de-07d0-4c6c-df2b-10ed535fe70f"
      },
      "outputs": [
        {
          "output_type": "stream",
          "name": "stdout",
          "text": [
            "12154\n",
            "97647\n"
          ]
        }
      ],
      "source": [
        "import pandas as pd\n",
        "\n",
        "pubs = pd.read_csv(\"/content/drive/MyDrive/Ro'ya CV4Africa Community Files/Bibliometric Study/Work_Phases/Data_Verification/Final_Filtered/Final_Authors_Topics_Filtered_Publications.csv\")\n",
        "authors = pd.read_csv(\"/content/drive/MyDrive/Ro'ya CV4Africa Community Files/Bibliometric Study/Work_Phases/Data_Verification/Authors List/combined_authors_metadata.csv\")\n",
        "authors_order = pd.read_csv(\"/content/drive/MyDrive/Ro'ya CV4Africa Community Files/Bibliometric Study/Work_Phases/Data_Verification/Authors List/authors_order_0.csv\")\n",
        "\n",
        "print(len(pubs))\n",
        "print(len(authors))"
      ]
    },
    {
      "cell_type": "code",
      "source": [
        "northern_countries = ['algeria', 'egypt', 'libya', 'morocco', 'sudan', 'tunisia', 'western sahara']\n",
        "southern_countries = ['angola', 'botswana', 'lesotho', 'mozambique', 'namibia', 'south africa', 'swaziland', 'eswatini', 'zambia', 'zimbabwe']\n",
        "west_countries = ['benin', 'burkina faso', 'cape verde', 'cabo verde', \"côte d'ivoire\", \"cote d'ivoire\", 'ivory coast', 'gambia', 'ghana', 'guinea', 'guinea-bissau', 'liberia', 'mali', 'mauritania', 'niger', 'nigeria', 'senegal', 'sierra leone', 'togo', 'saint helena']\n",
        "east_countries = ['burundi', 'comoros', 'djibouti', 'eritrea', 'ethiopia', 'kenya', 'madagascar', 'malawi', 'mauritius', 'réunion', 'reunion', 'rwanda', 'seychelles', 'somalia', 'somaliland', 'tanzania', 'united republic of tanzania', 'uganda', 'south sudan', 'mayotte']\n",
        "central_countries = ['cameroon', 'central african republic', 'chad', 'congo', 'congo republic - brazzaville', 'congo-brazzaville', 'congo-kinshasa', 'republic of the congo', 'democratic republic congo', 'democratic republic of congo', 'democratic republic of the congo', 'equatorial guinea', 'gabon', 'são tomé & principe', 'sao tome and principe']"
      ],
      "metadata": {
        "id": "QVrkj5wN6OYt"
      },
      "execution_count": null,
      "outputs": []
    },
    {
      "cell_type": "code",
      "source": [
        "def check_africa(country_series):\n",
        "  country_df = country_series.to_frame()\n",
        "  is_africa = False\n",
        "  final_contry = None\n",
        "\n",
        "  for idx, row in country_df.iterrows():\n",
        "    if row['country'] in northern_countries:\n",
        "      is_africa = True\n",
        "      final_country = 'Northern Africa'\n",
        "      break\n",
        "    elif row['country'].lower() in southern_countries:\n",
        "      is_africa = True\n",
        "      final_country = 'Southern Africa'\n",
        "      break\n",
        "    elif row['country'].lower() in west_countries:\n",
        "      is_africa = True\n",
        "      final_country = 'Western Africa'\n",
        "      break\n",
        "    elif row['country'].lower() in east_countries:\n",
        "      is_africa = True\n",
        "      final_country = 'Eastern Africa'\n",
        "      break\n",
        "    elif row['country'].lower() in central_countries:\n",
        "      is_africa = True\n",
        "      final_country = 'Central Africa'\n",
        "      break\n",
        "    else:\n",
        "      final_country = row['country']\n",
        "\n",
        "  return is_africa, final_country\n",
        "\n",
        "def check_african_authors_pos(authors_info, authors_ord_info, eid):\n",
        "  authors_list = authors_ord_info[\"authors_list\"]\n",
        "\n",
        "  authors_parsed_order = []\n",
        "\n",
        "  for idx, _ in enumerate(authors_list):\n",
        "    order = 'inbetween'\n",
        "    if idx == 0:\n",
        "      order = 'first'\n",
        "    elif idx == len(authors_list)-1:\n",
        "      order = 'last'\n",
        "\n",
        "    print(authors_list.loc[idx])\n",
        "    affiliations = authors_list.loc[idx].split(',')[4].split('=')[1].split(')')[0].split(';')\n",
        "    affiliations[0] = affiliations[0][1:] # remove extra quote\n",
        "    affiliations[-1] = affiliations[-1][:-1]\n",
        "\n",
        "    index_name = authors_list.loc[idx].split(',')[1].split('=')[1].strip()\n",
        "\n",
        "    print(affiliations, ' ', index_name)\n",
        "    author_info = []\n",
        "    for aff in affiliations:\n",
        "      author_info.append(authors_info[authors_info[\"affiliation_id\"] == float(aff)])\n",
        "\n",
        "    author_info = pd.concat(author_info, axis=0)\n",
        "    is_africa, final_country = check_africa(author_info.country)\n",
        "\n",
        "    print(is_africa, ' ', order, ' ', final_country)\n",
        "    authors_parsed_order.append(pd.DataFrame.from_dict({'order': order}))\n",
        "\n",
        "  authors_parsed_order = pd.concat(authors_parsed_order, axis=0)\n",
        "  return authors_parsed_order"
      ],
      "metadata": {
        "id": "uNgqmXVAutPL"
      },
      "execution_count": null,
      "outputs": []
    },
    {
      "cell_type": "code",
      "source": [
        "#\n",
        "\n",
        "for idx, row in pubs.iterrows():\n",
        "  print('EID- ', row['eid'])\n",
        "  authors_info = authors[authors['eid']==row['eid']]\n",
        "  authors_ord_info = authors_order[authors_order['eid']==row['eid']]\n",
        "\n",
        "  if len(authors_ord_info[\"authors_list\"]) == 0:\n",
        "    print('Publication doesnt have authors order : EID- ', row['eid'])\n",
        "    continue\n",
        "\n",
        "  check_african_authors_pos(authors_info, authors_ord_info, row['eid'])\n",
        "  break"
      ],
      "metadata": {
        "id": "xjdv-ctsvTsy"
      },
      "execution_count": null,
      "outputs": []
    }
  ]
}